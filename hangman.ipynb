{
 "cells": [
  {
   "cell_type": "markdown",
   "metadata": {},
   "source": [
    "\n",
    "echo \"# hangman\" >> README.mdecho \"# hangman\" >> README.md\n"
   ]
  },
  {
   "cell_type": "code",
   "execution_count": null,
   "metadata": {},
   "outputs": [],
   "source": [
    "import random\n",
    "import re\n",
    "my_words = ['cat', 'dinosaur', 'cactus', 'ancient', 'cantaloupe']\n",
    "word1 = random.choice(my_words)\n",
    "attempts = 10\n",
    "\n",
    "\n",
    "\n",
    "\n",
    "\n",
    "\n",
    "def unchosen_letters( letters, guess1 ): \n",
    "    unchosenLetters = list(letters)\n",
    "    unchosenLetters.remove(guess1)\n",
    "\n",
    "    letters = ''.join(unchosenLetters)\n",
    "    return letters\n",
    "   \n",
    "def filled_word( word1, guess1, attempts ):\n",
    "    if word1.find( guess1 ) != -1: \n",
    "        position = [m.start() for m in re.finditer( guess1, word1 )]\n",
    "        for x in position:\n",
    "            filled_word.emptyWord[x] = guess1\n",
    "        strWord = ''.join( filled_word.emptyWord )\n",
    "        print ('Good guess.')\n",
    "        print ('Current word: %s' % ''.join( filled_word.emptyWord ))\n",
    "        return attempts\n",
    "    else:\n",
    "        strWord = ''.join( filled_word.emptyWord )\n",
    "        print ('Oops! That letter is not in my word:', strWord)\n",
    "        attempts -= 1\n",
    "        print ('You have {} guesses left'.format(attempts))\n",
    "        return attempts\n",
    "        \n",
    "        \n",
    "def game( word1, attempts, numLetters):  \n",
    "    print ('Welcome to the game, Hangman!')\n",
    "    print ('I am thinking of a word that is', numLetters, 'letters long')\n",
    "    letters = 'abcdefghijklmnopqrstuvwxyz'\n",
    "    try:\n",
    "        filled_word.emptyWord\n",
    "    except:\n",
    "        filled_word.emptyWord = ['_'] * numLetters\n",
    "    while '_' in filled_word.emptyWord and attempts >= 0:\n",
    "        print ('Available letters:', letters)\n",
    "        guess1 = input( \"Please guess a letter:\" )\n",
    "        if guess1 in letters:\n",
    "            attempts = filled_word( word1, guess1, attempts)\n",
    "            letters = unchosen_letters( letters, guess1 )\n",
    "        else:\n",
    "            print ('You guessed: %s, which is not in Available letters: %s' % ( guess1, ''.join( letters ) ))\n",
    "        if '_' not in filled_word.emptyWord:\n",
    "            print('You win! Nice Job!')\n",
    "\n",
    "\n",
    "game(word1, attempts, numLetters = len(word1))\n",
    "if '_' in filled_word.emptyWord:\n",
    "    print ('Bah Humbug!!')"
   ]
  }
 ],
 "metadata": {
  "kernelspec": {
   "display_name": "Python 3",
   "language": "python",
   "name": "python3"
  },
  "language_info": {
   "codemirror_mode": {
    "name": "ipython",
    "version": 3
   },
   "file_extension": ".py",
   "mimetype": "text/x-python",
   "name": "python",
   "nbconvert_exporter": "python",
   "pygments_lexer": "ipython3",
   "version": "3.6.4"
  }
 },
 "nbformat": 4,
 "nbformat_minor": 2
}
